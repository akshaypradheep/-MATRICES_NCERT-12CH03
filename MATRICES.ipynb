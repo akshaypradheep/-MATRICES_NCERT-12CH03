{
  "nbformat": 4,
  "nbformat_minor": 0,
  "metadata": {
    "colab": {
      "name": " MATRICES.ipynb",
      "provenance": [],
      "authorship_tag": "ABX9TyMAXDuhjocWUuVt72k7WvaS",
      "include_colab_link": true
    },
    "kernelspec": {
      "name": "python3",
      "display_name": "Python 3"
    }
  },
  "cells": [
    {
      "cell_type": "markdown",
      "metadata": {
        "id": "view-in-github",
        "colab_type": "text"
      },
      "source": [
        "<a href=\"https://colab.research.google.com/github/akshaypradheep/MATRICES_NCERT-12CH03/blob/master/MATRICES.ipynb\" target=\"_parent\"><img src=\"https://colab.research.google.com/assets/colab-badge.svg\" alt=\"Open In Colab\"/></a>"
      ]
    },
    {
      "cell_type": "markdown",
      "metadata": {
        "id": "kfsLPBLU2zlQ",
        "colab_type": "text"
      },
      "source": [
        "  # Basic Matrix"
      ]
    },
    {
      "cell_type": "code",
      "metadata": {
        "id": "11SrUZai3Ylt",
        "colab_type": "code",
        "colab": {
          "base_uri": "https://localhost:8080/",
          "height": 53
        },
        "outputId": "db9760b0-7373-4097-ee0e-05d2e211d71a"
      },
      "source": [
        "#make a matrix using numpy\n",
        "\n",
        "import numpy as np\n",
        "a_sample=np.array([[1,2,3,4,5],[6,7,8,9,10]])\n",
        "print(a_sample)"
      ],
      "execution_count": 7,
      "outputs": [
        {
          "output_type": "stream",
          "text": [
            "[[ 1  2  3  4  5]\n",
            " [ 6  7  8  9 10]]\n"
          ],
          "name": "stdout"
        }
      ]
    },
    {
      "cell_type": "code",
      "metadata": {
        "id": "Ly2gycM14kWA",
        "colab_type": "code",
        "colab": {
          "base_uri": "https://localhost:8080/",
          "height": 71
        },
        "outputId": "faec2d6b-36f0-4d66-dcd8-2a2df12fc80a"
      },
      "source": [
        "#make a matrix using formula\n",
        "# 3.2.1 Example 3 Construct a 3 × 2 matrix whose elements are given by a(ij)= 0.5*|i-3j|\n",
        "#matrix start counting from A00 not A11\n",
        "a32=np.fromfunction(lambda i, j: 0.5*abs((i - 3*j)), (3, 2), dtype=int)\n",
        "print(a32)"
      ],
      "execution_count": 14,
      "outputs": [
        {
          "output_type": "stream",
          "text": [
            "[[0.  1.5]\n",
            " [0.5 1. ]\n",
            " [1.  0.5]]\n"
          ],
          "name": "stdout"
        }
      ]
    },
    {
      "cell_type": "code",
      "metadata": {
        "id": "Ms4QVyC6AHWA",
        "colab_type": "code",
        "colab": {
          "base_uri": "https://localhost:8080/",
          "height": 88
        },
        "outputId": "467c14fa-70cd-44b1-87e1-be5f01024581"
      },
      "source": [
        "#arrange a sequence as a matrix\n",
        "x = np.arange(0,16,1).reshape((4,4))\n",
        "print(x)"
      ],
      "execution_count": 29,
      "outputs": [
        {
          "output_type": "stream",
          "text": [
            "[[ 0  1  2  3]\n",
            " [ 4  5  6  7]\n",
            " [ 8  9 10 11]\n",
            " [12 13 14 15]]\n"
          ],
          "name": "stdout"
        }
      ]
    },
    {
      "cell_type": "markdown",
      "metadata": {
        "id": "1mdtW8jw9ys-",
        "colab_type": "text"
      },
      "source": [
        "# Types of Matrices"
      ]
    },
    {
      "cell_type": "code",
      "metadata": {
        "id": "7XQ4Gix59S_6",
        "colab_type": "code",
        "colab": {
          "base_uri": "https://localhost:8080/",
          "height": 88
        },
        "outputId": "d8182694-08b7-4f80-c93c-bbf55c69d814"
      },
      "source": [
        "## Types of Matrices\n",
        "#A matrix is said to be a column matrix if it has only one column\n",
        "column_matrix=np.array([[1],[2],[3],[4]])\n",
        "print(column_matrix)"
      ],
      "execution_count": 15,
      "outputs": [
        {
          "output_type": "stream",
          "text": [
            "[[1]\n",
            " [2]\n",
            " [3]\n",
            " [4]]\n"
          ],
          "name": "stdout"
        }
      ]
    },
    {
      "cell_type": "code",
      "metadata": {
        "id": "okyfRd399_-r",
        "colab_type": "code",
        "colab": {
          "base_uri": "https://localhost:8080/",
          "height": 35
        },
        "outputId": "b40b5224-cfcc-4dfc-c47c-e46b2771d5db"
      },
      "source": [
        "#Row matrix\n",
        "#A matrix is said to be a row matrix if it has only one row.\n",
        "row_matrix=np.array([1,2,3,4,6])\n",
        "print(row_matrix)"
      ],
      "execution_count": 16,
      "outputs": [
        {
          "output_type": "stream",
          "text": [
            "[1 2 3 4 6]\n"
          ],
          "name": "stdout"
        }
      ]
    },
    {
      "cell_type": "code",
      "metadata": {
        "id": "JKBsUO57-cOE",
        "colab_type": "code",
        "colab": {
          "base_uri": "https://localhost:8080/",
          "height": 71
        },
        "outputId": "176b353b-ffe9-40c0-ee37-b9fdcad27671"
      },
      "source": [
        "#Square matrix\n",
        "#A matrix in which the number of rows are equal to the number of columns\n",
        "square_matrix=np.array([[1,2,3],[4,5,6],[7,8,9]])\n",
        "print(square_matrix)\n"
      ],
      "execution_count": 17,
      "outputs": [
        {
          "output_type": "stream",
          "text": [
            "[[1 2 3]\n",
            " [4 5 6]\n",
            " [7 8 9]]\n"
          ],
          "name": "stdout"
        }
      ]
    },
    {
      "cell_type": "code",
      "metadata": {
        "id": "jOaPYbC5--_L",
        "colab_type": "code",
        "colab": {
          "base_uri": "https://localhost:8080/",
          "height": 88
        },
        "outputId": "f7fbec3d-a3ee-4dfe-8aa7-6e0f517f30e8"
      },
      "source": [
        "#Diagonal matrix\n",
        "#is a sqare matric  diagonal matrix if all its non -\n",
        "#diagonal elements are zero\n",
        "x = np.arange(0,16,1).reshape((4,4)) #create a marix x\n",
        "diagonal_matrix=np.diag(np.diag(x)) #diagonal vaules from x[] and create new diagonal matrix \n",
        "print(diagonal_matrix)"
      ],
      "execution_count": 31,
      "outputs": [
        {
          "output_type": "stream",
          "text": [
            "[[ 0  0  0  0]\n",
            " [ 0  5  0  0]\n",
            " [ 0  0 10  0]\n",
            " [ 0  0  0 15]]\n"
          ],
          "name": "stdout"
        }
      ]
    },
    {
      "cell_type": "code",
      "metadata": {
        "id": "q0_Saqc8CK5s",
        "colab_type": "code",
        "colab": {
          "base_uri": "https://localhost:8080/",
          "height": 106
        },
        "outputId": "fccec1ad-26f5-4a9c-f7da-c12b4320cc5e"
      },
      "source": [
        "#Scalar matrix\n",
        "#A diagonal matrix is said to be a scalar matrix if its diagonal elements are equal\n",
        "y=np.ones((5,5),dtype=int)*4\n",
        "scalar_matrix=np.diag(np.diag(y))\n",
        "print(scalar_matrix)"
      ],
      "execution_count": 44,
      "outputs": [
        {
          "output_type": "stream",
          "text": [
            "[[4 0 0 0 0]\n",
            " [0 4 0 0 0]\n",
            " [0 0 4 0 0]\n",
            " [0 0 0 4 0]\n",
            " [0 0 0 0 4]]\n"
          ],
          "name": "stdout"
        }
      ]
    },
    {
      "cell_type": "code",
      "metadata": {
        "id": "ZNAfW0L9DdKV",
        "colab_type": "code",
        "colab": {
          "base_uri": "https://localhost:8080/",
          "height": 88
        },
        "outputId": "50dad678-4bc5-40c7-88a5-bba877f70319"
      },
      "source": [
        "#Identity matrix\n",
        "#square matrix  diagonal are all 1 and rest are all zero\n",
        "z=np.ones((4,4),dtype=int)\n",
        "identify_matrix=np.diag(np.diag(z))\n",
        "print(identify_matrix)"
      ],
      "execution_count": 46,
      "outputs": [
        {
          "output_type": "stream",
          "text": [
            "[[1 0 0 0]\n",
            " [0 1 0 0]\n",
            " [0 0 1 0]\n",
            " [0 0 0 1]]\n"
          ],
          "name": "stdout"
        }
      ]
    },
    {
      "cell_type": "code",
      "metadata": {
        "id": "cetuuG7HEB52",
        "colab_type": "code",
        "colab": {
          "base_uri": "https://localhost:8080/",
          "height": 71
        },
        "outputId": "7abda442-ec37-4f51-ec3e-8a88593a570d"
      },
      "source": [
        "#Zero matrix\n",
        "zero_matrix=np.zeros((3,3))\n",
        "print(zero_matrix)"
      ],
      "execution_count": 47,
      "outputs": [
        {
          "output_type": "stream",
          "text": [
            "[[0. 0. 0.]\n",
            " [0. 0. 0.]\n",
            " [0. 0. 0.]]\n"
          ],
          "name": "stdout"
        }
      ]
    }
  ]
}