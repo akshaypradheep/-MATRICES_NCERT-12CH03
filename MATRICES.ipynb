{
  "nbformat": 4,
  "nbformat_minor": 0,
  "metadata": {
    "colab": {
      "name": " MATRICES.ipynb",
      "provenance": [],
      "authorship_tag": "ABX9TyPXGgrh9qZxyD3ppYDcUG18",
      "include_colab_link": true
    },
    "kernelspec": {
      "name": "python3",
      "display_name": "Python 3"
    }
  },
  "cells": [
    {
      "cell_type": "markdown",
      "metadata": {
        "id": "view-in-github",
        "colab_type": "text"
      },
      "source": [
        "<a href=\"https://colab.research.google.com/github/akshaypradheep/MATRICES_NCERT-12CH03/blob/master/MATRICES.ipynb\" target=\"_parent\"><img src=\"https://colab.research.google.com/assets/colab-badge.svg\" alt=\"Open In Colab\"/></a>"
      ]
    },
    {
      "cell_type": "markdown",
      "metadata": {
        "id": "kfsLPBLU2zlQ",
        "colab_type": "text"
      },
      "source": [
        ""
      ]
    },
    {
      "cell_type": "code",
      "metadata": {
        "id": "11SrUZai3Ylt",
        "colab_type": "code",
        "colab": {
          "base_uri": "https://localhost:8080/",
          "height": 53
        },
        "outputId": "db9760b0-7373-4097-ee0e-05d2e211d71a"
      },
      "source": [
        "#make a matrix using numpy\n",
        "\n",
        "import numpy as np\n",
        "a_sample=np.array([[1,2,3,4,5],[6,7,8,9,10]])\n",
        "print(a_sample)"
      ],
      "execution_count": 7,
      "outputs": [
        {
          "output_type": "stream",
          "text": [
            "[[ 1  2  3  4  5]\n",
            " [ 6  7  8  9 10]]\n"
          ],
          "name": "stdout"
        }
      ]
    },
    {
      "cell_type": "code",
      "metadata": {
        "id": "Ly2gycM14kWA",
        "colab_type": "code",
        "colab": {
          "base_uri": "https://localhost:8080/",
          "height": 71
        },
        "outputId": "faec2d6b-36f0-4d66-dcd8-2a2df12fc80a"
      },
      "source": [
        "#make a matrix using formula\n",
        "# 3.2.1 Example 3 Construct a 3 × 2 matrix whose elements are given by a(ij)= 0.5*|i-3j|\n",
        "#matrix start counting from A00 not A11\n",
        "a32=np.fromfunction(lambda i, j: 0.5*abs((i - 3*j)), (3, 2), dtype=int)\n",
        "print(a32)"
      ],
      "execution_count": 14,
      "outputs": [
        {
          "output_type": "stream",
          "text": [
            "[[0.  1.5]\n",
            " [0.5 1. ]\n",
            " [1.  0.5]]\n"
          ],
          "name": "stdout"
        }
      ]
    }
  ]
}