{
  "nbformat": 4,
  "nbformat_minor": 0,
  "metadata": {
    "colab": {
      "name": " MATRICES.ipynb",
      "provenance": [],
      "authorship_tag": "ABX9TyOPxQJm5jMjg5bmXl2UjiF0",
      "include_colab_link": true
    },
    "kernelspec": {
      "name": "python3",
      "display_name": "Python 3"
    }
  },
  "cells": [
    {
      "cell_type": "markdown",
      "metadata": {
        "id": "view-in-github",
        "colab_type": "text"
      },
      "source": [
        "<a href=\"https://colab.research.google.com/github/akshaypradheep/MATRICES_NCERT-12CH03/blob/master/MATRICES.ipynb\" target=\"_parent\"><img src=\"https://colab.research.google.com/assets/colab-badge.svg\" alt=\"Open In Colab\"/></a>"
      ]
    },
    {
      "cell_type": "markdown",
      "metadata": {
        "id": "kfsLPBLU2zlQ",
        "colab_type": "text"
      },
      "source": [
        "  # Basic Matrix"
      ]
    },
    {
      "cell_type": "code",
      "metadata": {
        "id": "11SrUZai3Ylt",
        "colab_type": "code",
        "colab": {
          "base_uri": "https://localhost:8080/",
          "height": 53
        },
        "outputId": "ebc01e0b-a98d-40ae-b554-40c875e30fa1"
      },
      "source": [
        "#make a matrix using numpy\n",
        "import numpy as np\n",
        "a_sample=np.array([[1,2,3,4,5],[6,7,8,9,10]])\n",
        "print(a_sample)"
      ],
      "execution_count": 4,
      "outputs": [
        {
          "output_type": "stream",
          "text": [
            "[[ 1  2  3  4  5]\n",
            " [ 6  7  8  9 10]]\n"
          ],
          "name": "stdout"
        }
      ]
    },
    {
      "cell_type": "code",
      "metadata": {
        "id": "Ly2gycM14kWA",
        "colab_type": "code",
        "colab": {
          "base_uri": "https://localhost:8080/",
          "height": 71
        },
        "outputId": "b979c4e6-d5f6-405b-edde-40fb8b422d14"
      },
      "source": [
        "#make a matrix using formula\n",
        "# 3.2.1 Example 3 Construct a 3 × 2 matrix whose elements are given by a(ij)= 0.5*|i-3j|\n",
        "#matrix start counting from A00 not A11\n",
        "a32=np.fromfunction(lambda i, j: 0.5*abs((i - 3*j)), (3, 2), dtype=int)\n",
        "print(a32)"
      ],
      "execution_count": 5,
      "outputs": [
        {
          "output_type": "stream",
          "text": [
            "[[0.  1.5]\n",
            " [0.5 1. ]\n",
            " [1.  0.5]]\n"
          ],
          "name": "stdout"
        }
      ]
    },
    {
      "cell_type": "code",
      "metadata": {
        "id": "Ms4QVyC6AHWA",
        "colab_type": "code",
        "colab": {
          "base_uri": "https://localhost:8080/",
          "height": 88
        },
        "outputId": "61bdf1f8-9862-4f3f-e9e6-2db366720ebb"
      },
      "source": [
        "#arrange a sequence as a matrix\n",
        "x = np.arange(0,16,1).reshape((4,4))\n",
        "print(x)"
      ],
      "execution_count": 6,
      "outputs": [
        {
          "output_type": "stream",
          "text": [
            "[[ 0  1  2  3]\n",
            " [ 4  5  6  7]\n",
            " [ 8  9 10 11]\n",
            " [12 13 14 15]]\n"
          ],
          "name": "stdout"
        }
      ]
    },
    {
      "cell_type": "markdown",
      "metadata": {
        "id": "1mdtW8jw9ys-",
        "colab_type": "text"
      },
      "source": [
        "# Types of Matrices"
      ]
    },
    {
      "cell_type": "code",
      "metadata": {
        "id": "7XQ4Gix59S_6",
        "colab_type": "code",
        "colab": {
          "base_uri": "https://localhost:8080/",
          "height": 88
        },
        "outputId": "eefd6fcd-f17b-4d73-f719-64f42a0d2ae6"
      },
      "source": [
        "## Types of Matrices\n",
        "#A matrix is said to be a column matrix if it has only one column\n",
        "column_matrix=np.array([[1],[2],[3],[4]])\n",
        "print(column_matrix)"
      ],
      "execution_count": 7,
      "outputs": [
        {
          "output_type": "stream",
          "text": [
            "[[1]\n",
            " [2]\n",
            " [3]\n",
            " [4]]\n"
          ],
          "name": "stdout"
        }
      ]
    },
    {
      "cell_type": "code",
      "metadata": {
        "id": "okyfRd399_-r",
        "colab_type": "code",
        "colab": {
          "base_uri": "https://localhost:8080/",
          "height": 35
        },
        "outputId": "00278ef7-6771-4d9c-9140-3640aae6982c"
      },
      "source": [
        "#Row matrix\n",
        "#A matrix is said to be a row matrix if it has only one row.\n",
        "row_matrix=np.array([1,2,3,4,6])\n",
        "print(row_matrix)"
      ],
      "execution_count": 8,
      "outputs": [
        {
          "output_type": "stream",
          "text": [
            "[1 2 3 4 6]\n"
          ],
          "name": "stdout"
        }
      ]
    },
    {
      "cell_type": "code",
      "metadata": {
        "id": "JKBsUO57-cOE",
        "colab_type": "code",
        "colab": {
          "base_uri": "https://localhost:8080/",
          "height": 71
        },
        "outputId": "4ed183d3-a114-4a66-b642-bbccbeae02a6"
      },
      "source": [
        "#Square matrix\n",
        "#A matrix in which the number of rows are equal to the number of columns\n",
        "square_matrix=np.array([[1,2,3],[4,5,6],[7,8,9]])\n",
        "print(square_matrix)\n"
      ],
      "execution_count": 9,
      "outputs": [
        {
          "output_type": "stream",
          "text": [
            "[[1 2 3]\n",
            " [4 5 6]\n",
            " [7 8 9]]\n"
          ],
          "name": "stdout"
        }
      ]
    },
    {
      "cell_type": "code",
      "metadata": {
        "id": "jOaPYbC5--_L",
        "colab_type": "code",
        "colab": {
          "base_uri": "https://localhost:8080/",
          "height": 88
        },
        "outputId": "0ff3f1c1-f8c6-4b6b-dd4f-a4f179cd3d88"
      },
      "source": [
        "#Diagonal matrix\n",
        "#is a sqare matric  diagonal matrix if all its non -\n",
        "#diagonal elements are zero\n",
        "x = np.arange(0,16,1).reshape((4,4)) #create a marix x\n",
        "diagonal_matrix=np.diag(np.diag(x)) #diagonal vaules from x[] and create new diagonal matrix \n",
        "print(diagonal_matrix)"
      ],
      "execution_count": 10,
      "outputs": [
        {
          "output_type": "stream",
          "text": [
            "[[ 0  0  0  0]\n",
            " [ 0  5  0  0]\n",
            " [ 0  0 10  0]\n",
            " [ 0  0  0 15]]\n"
          ],
          "name": "stdout"
        }
      ]
    },
    {
      "cell_type": "code",
      "metadata": {
        "id": "q0_Saqc8CK5s",
        "colab_type": "code",
        "colab": {
          "base_uri": "https://localhost:8080/",
          "height": 106
        },
        "outputId": "0cb896e6-29c2-435b-e9ea-de7d31a314fe"
      },
      "source": [
        "#Scalar matrix\n",
        "#A diagonal matrix is said to be a scalar matrix if its diagonal elements are equal\n",
        "y=np.ones((5,5),dtype=int)*4\n",
        "scalar_matrix=np.diag(np.diag(y))\n",
        "print(scalar_matrix)"
      ],
      "execution_count": 11,
      "outputs": [
        {
          "output_type": "stream",
          "text": [
            "[[4 0 0 0 0]\n",
            " [0 4 0 0 0]\n",
            " [0 0 4 0 0]\n",
            " [0 0 0 4 0]\n",
            " [0 0 0 0 4]]\n"
          ],
          "name": "stdout"
        }
      ]
    },
    {
      "cell_type": "code",
      "metadata": {
        "id": "ZNAfW0L9DdKV",
        "colab_type": "code",
        "colab": {
          "base_uri": "https://localhost:8080/",
          "height": 88
        },
        "outputId": "a065289c-bddc-4fc0-ef59-982299acea13"
      },
      "source": [
        "#Identity matrix\n",
        "#square matrix  diagonal are all 1 and rest are all zero\n",
        "z=np.ones((4,4),dtype=int)\n",
        "identify_matrix=np.diag(np.diag(z))\n",
        "print(identify_matrix)"
      ],
      "execution_count": 12,
      "outputs": [
        {
          "output_type": "stream",
          "text": [
            "[[1 0 0 0]\n",
            " [0 1 0 0]\n",
            " [0 0 1 0]\n",
            " [0 0 0 1]]\n"
          ],
          "name": "stdout"
        }
      ]
    },
    {
      "cell_type": "code",
      "metadata": {
        "id": "cetuuG7HEB52",
        "colab_type": "code",
        "colab": {
          "base_uri": "https://localhost:8080/",
          "height": 71
        },
        "outputId": "3b6879e4-6f8d-4ea2-cb3d-f08f82c38370"
      },
      "source": [
        "#Zero matrix\n",
        "zero_matrix=np.zeros((3,3))\n",
        "print(zero_matrix)"
      ],
      "execution_count": 13,
      "outputs": [
        {
          "output_type": "stream",
          "text": [
            "[[0. 0. 0.]\n",
            " [0. 0. 0.]\n",
            " [0. 0. 0.]]\n"
          ],
          "name": "stdout"
        }
      ]
    },
    {
      "cell_type": "code",
      "metadata": {
        "id": "RKCbUg94E1RP",
        "colab_type": "code",
        "colab": {
          "base_uri": "https://localhost:8080/",
          "height": 53
        },
        "outputId": "6d576ae6-d867-4571-b4d2-2483e1e404f5"
      },
      "source": [
        "#Equality of matrices\n",
        "A=np.array([[2,3],[4,5]])\n",
        "B=np.array([[2,3],[4,5]])\n",
        "A==B"
      ],
      "execution_count": 14,
      "outputs": [
        {
          "output_type": "execute_result",
          "data": {
            "text/plain": [
              "array([[ True,  True],\n",
              "       [ True,  True]])"
            ]
          },
          "metadata": {
            "tags": []
          },
          "execution_count": 14
        }
      ]
    },
    {
      "cell_type": "code",
      "metadata": {
        "id": "m7L9CaPp1GmL",
        "colab_type": "code",
        "colab": {
          "base_uri": "https://localhost:8080/",
          "height": 160
        },
        "outputId": "266908c1-fa54-4060-d057-aaa472c089ee"
      },
      "source": [
        "#If a matrix has 24 elements, what are the possible orders it can have? What, if it\n",
        "#has 13 elements?\n",
        "n=24\n",
        "for i in range(1,n+1):\n",
        "  if(n%i==0):\n",
        "    print('(',i,',',n//i,')')\n"
      ],
      "execution_count": 30,
      "outputs": [
        {
          "output_type": "stream",
          "text": [
            "( 1 , 24 )\n",
            "( 2 , 12 )\n",
            "( 3 , 8 )\n",
            "( 4 , 6 )\n",
            "( 6 , 4 )\n",
            "( 8 , 3 )\n",
            "( 12 , 2 )\n",
            "( 24 , 1 )\n"
          ],
          "name": "stdout"
        }
      ]
    }
  ]
}